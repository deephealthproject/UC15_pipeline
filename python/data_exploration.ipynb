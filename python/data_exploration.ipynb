{
 "cells": [
  {
   "cell_type": "markdown",
   "id": "8ad6d572",
   "metadata": {},
   "source": [
    "# Dataset Exploration"
   ]
  },
  {
   "cell_type": "markdown",
   "id": "576556be",
   "metadata": {},
   "source": [
    "The aim of this notebook is to explore all the data, labels and metadata available in the dataset to extract a valuable analysis to perform a better data collection and preprocessing."
   ]
  },
  {
   "cell_type": "markdown",
   "id": "d7709a6c",
   "metadata": {},
   "source": [
    "## Imports"
   ]
  },
  {
   "cell_type": "code",
   "execution_count": null,
   "id": "f2e6919f",
   "metadata": {},
   "outputs": [],
   "source": [
    "import os\n",
    "import multiprocessing\n",
    "from collections import Counter\n",
    "import ast\n",
    "\n",
    "import numpy as np\n",
    "import pandas as pd\n",
    "from tqdm import tqdm\n",
    "from matplotlib import pyplot as plt\n",
    "\n",
    "from lib.plot_utils import create_histogram\n",
    "from lib.image_processing import load_numpy_data, get_stats\n",
    "from lib.data_processing import get_labels_from_str"
   ]
  },
  {
   "cell_type": "markdown",
   "id": "9b0e66cb",
   "metadata": {},
   "source": [
    "## Config"
   ]
  },
  {
   "cell_type": "code",
   "execution_count": null,
   "id": "91758ffe",
   "metadata": {},
   "outputs": [],
   "source": [
    "# Path to the folder with the subjects folders extracted\n",
    "subjects_path = \"../../../datasets/BIMCV-COVID19-cIter_1_2/covid19_posi/\"\n",
    "\n",
    "# Path to the TSV with all the images file pahts by subject and session\n",
    "partitions_tsv_path = os.path.join(subjects_path, \"derivatives/partitions.tsv\")\n",
    "\n",
    "# Path to the TSV with the main labels (and medical report) for each session\n",
    "labels_tsv_path = os.path.join(subjects_path, \"derivatives/labels/labels_covid_posi.tsv\")\n",
    "\n",
    "# Path to the TSV with the results of the COVID tests for each subject\n",
    "tests_tsv_path = os.path.join(subjects_path, \"derivatives/EHR/sil_reg_covid_posi.tsv\")\n",
    "\n",
    "# Maximum number of cores to use during some exploration steps\n",
    "max_cores = multiprocessing.cpu_count()"
   ]
  },
  {
   "cell_type": "markdown",
   "id": "7bd11700",
   "metadata": {},
   "source": [
    "## Load TSV of the dataset images"
   ]
  },
  {
   "cell_type": "markdown",
   "id": "755554c6",
   "metadata": {},
   "source": [
    "This TSV contains for each unique pair of subject ID and session ID the corresponding path to the image of that session. The path is relative to the folder containing all the subjects folders. The name of this folder should be \"covid19_posi\"."
   ]
  },
  {
   "cell_type": "code",
   "execution_count": null,
   "id": "76388dd6",
   "metadata": {},
   "outputs": [],
   "source": [
    "# Load dataframe with all the images by session and subject\n",
    "cols = [\"subject\", \"session\", \"filepath\"]  # The original columns must be fixed\n",
    "part_df = pd.read_csv(partitions_tsv_path, sep=\"\\t\", header=0, names=cols)\n",
    "part_df.head()"
   ]
  },
  {
   "cell_type": "code",
   "execution_count": null,
   "id": "838ab658",
   "metadata": {},
   "outputs": [],
   "source": [
    "# Create auxiliary groupby views of the dataframe\n",
    "part_groupby_sub = part_df.groupby([\"subject\"])\n",
    "part_groupby_sess = part_df.groupby([\"session\"])"
   ]
  },
  {
   "cell_type": "markdown",
   "id": "c1a83ca6",
   "metadata": {},
   "source": [
    "## Dataset counts"
   ]
  },
  {
   "cell_type": "code",
   "execution_count": null,
   "id": "737ee99a",
   "metadata": {},
   "outputs": [],
   "source": [
    "n_subjects = part_df['subject'].nunique()\n",
    "n_sessions = part_df['session'].nunique()\n",
    "n_images = len(part_df['filepath'])\n",
    "print(f\"Number of subjects: {n_subjects}\")\n",
    "print(f\"Number of sessions: {n_sessions}\")\n",
    "print(f\"Number of images: {n_images}\")"
   ]
  },
  {
   "cell_type": "markdown",
   "id": "e9ac28f0",
   "metadata": {},
   "source": [
    "### Check if the sessions ids are unique"
   ]
  },
  {
   "cell_type": "code",
   "execution_count": null,
   "id": "23685f16",
   "metadata": {},
   "outputs": [],
   "source": [
    "n_sub_sess_pairs = part_df.groupby([\"subject\", \"session\"]).ngroups\n",
    "print(f\"Total sessions: {n_sessions}\")\n",
    "print(f\"Total unique pairs of subject & session: {n_sub_sess_pairs}\")\n",
    "print(f\"Are sessions IDs unique? {n_sessions == n_sub_sess_pairs}\")"
   ]
  },
  {
   "cell_type": "markdown",
   "id": "c9cdc36b",
   "metadata": {},
   "source": [
    "### Sessions by subject"
   ]
  },
  {
   "cell_type": "code",
   "execution_count": null,
   "id": "38b624bd",
   "metadata": {},
   "outputs": [],
   "source": [
    "# Get counts of sessions by subject\n",
    "sess_count_by_sub = part_groupby_sub[\"session\"].agg(\"nunique\").values\n",
    "print(\"Count of sessions by subject:\")\n",
    "print(f\" - mean: {sess_count_by_sub.mean():.2f}\")\n",
    "print(f\" - median: {np.median(sess_count_by_sub)}\")\n",
    "print(f\" - max: {sess_count_by_sub.max()}\")\n",
    "print(f\" - min: {sess_count_by_sub.min()}\")\n",
    "create_histogram(data=sess_count_by_sub,\n",
    "                 title=\"Count of sessions by subject\",\n",
    "                 ylabel=\"Subjects\",\n",
    "                 xlabel=\"Sessions\")"
   ]
  },
  {
   "cell_type": "markdown",
   "id": "a9a811e9",
   "metadata": {},
   "source": [
    "### Images by subject"
   ]
  },
  {
   "cell_type": "code",
   "execution_count": null,
   "id": "0a6b8df3",
   "metadata": {},
   "outputs": [],
   "source": [
    "# Get counts of images by subject\n",
    "images_count_by_sub = part_groupby_sub[\"filepath\"].agg(\"count\").values\n",
    "print(\"Count of images by subject:\")\n",
    "print(f\" - mean: {images_count_by_sub.mean():.2f}\")\n",
    "print(f\" - median: {np.median(images_count_by_sub)}\")\n",
    "print(f\" - max: {images_count_by_sub.max()}\")\n",
    "print(f\" - min: {images_count_by_sub.min()}\")\n",
    "create_histogram(data=images_count_by_sub,\n",
    "                 title=\"Count of images by subject\",\n",
    "                 ylabel=\"Subjects\",\n",
    "                 xlabel=\"Images\")"
   ]
  },
  {
   "cell_type": "markdown",
   "id": "41393cde",
   "metadata": {},
   "source": [
    "### Images by session"
   ]
  },
  {
   "cell_type": "code",
   "execution_count": null,
   "id": "2816a3a5",
   "metadata": {},
   "outputs": [],
   "source": [
    "# Get counts of images by session\n",
    "images_count_by_sess = part_groupby_sess[\"filepath\"].agg(\"count\").values\n",
    "print(\"Count of images by session:\")\n",
    "print(f\" - mean: {images_count_by_sess.mean():.2f}\")\n",
    "print(f\" - median: {np.median(images_count_by_sess)}\")\n",
    "print(f\" - max: {images_count_by_sess.max()}\")\n",
    "print(f\" - min: {images_count_by_sess.min()}\")\n",
    "create_histogram(data=images_count_by_sess,\n",
    "                 title=\"Count of images by session\",\n",
    "                 ylabel=\"Sessions\",\n",
    "                 xlabel=\"Images\")"
   ]
  },
  {
   "cell_type": "markdown",
   "id": "a05a3b07",
   "metadata": {},
   "source": [
    "## Images analysis"
   ]
  },
  {
   "cell_type": "markdown",
   "id": "fada6e7f",
   "metadata": {},
   "source": [
    "### Count of images views"
   ]
  },
  {
   "cell_type": "markdown",
   "id": "f6182bbf",
   "metadata": {},
   "source": [
    "Here we count how many images are anterior-posterior or posterior anterior. This views are the ones we are interested in."
   ]
  },
  {
   "cell_type": "code",
   "execution_count": null,
   "id": "b72a6435",
   "metadata": {},
   "outputs": [],
   "source": [
    "img_files = part_df[\"filepath\"].values  # Get all the paths to the images\n",
    "\n",
    "# Filter by view\n",
    "ap_pa_img_files = []  # Anterior-Posterior (AP) and Posterior-Anterior (PA)\n",
    "not_ap_img_files = []\n",
    "for f_name in img_files:\n",
    "    if \"vp-ap\" in f_name or \"vp-pa\" in f_name:\n",
    "        ap_pa_img_files.append(f_name)\n",
    "    else:\n",
    "        not_ap_img_files.append(f_name)\n",
    "        \n",
    "print(f\"AP and PA images count: {len(ap_pa_img_files)}\")\n",
    "print(f\"Other views count: {len(not_ap_img_files)}\")"
   ]
  },
  {
   "cell_type": "markdown",
   "id": "fa77af5b",
   "metadata": {},
   "source": [
    "### Check images file extensions"
   ]
  },
  {
   "cell_type": "code",
   "execution_count": null,
   "id": "4aa3ac50",
   "metadata": {},
   "outputs": [],
   "source": [
    "for view, images in [(\"AP/PA\", ap_pa_img_files), (\"other\", not_ap_img_files)]:\n",
    "    count_png = 0\n",
    "    count_nii = 0\n",
    "    for filepath in images:\n",
    "        if filepath.endswith(\"png\"):\n",
    "            count_png += 1\n",
    "        elif filepath.endswith(\"nii.gz\"):\n",
    "            count_nii += 1\n",
    "        else:\n",
    "            print(f\"Warning: Unexpected image extension in {filepath}\")\n",
    "\n",
    "    print(f\"Images file extensions in {view} views:\")\n",
    "    print(f\" - png: {count_png}\")\n",
    "    print(f\" - nii.gz: {count_nii}\")"
   ]
  },
  {
   "cell_type": "markdown",
   "id": "1dbcc1b6",
   "metadata": {},
   "source": [
    "### Explore pixels data"
   ]
  },
  {
   "cell_type": "markdown",
   "id": "4f6092bc",
   "metadata": {},
   "source": [
    "In the next cell we load all the images corresponding to the views AP and PA to extract some information about them.\n",
    "\n",
    "### WARNING: The execution of this cell can take up to one hour to complete."
   ]
  },
  {
   "cell_type": "code",
   "execution_count": null,
   "id": "90b96fa0",
   "metadata": {},
   "outputs": [],
   "source": [
    "# Convert the relative paths to the full path required to access the images\n",
    "img_full_paths = [os.path.join(subjects_path, img_file) for img_file in ap_pa_img_files]\n",
    "\n",
    "# Compute the stats with parallel processing\n",
    "with multiprocessing.Pool(max_cores) as p:\n",
    "    stats = list(tqdm(p.imap(get_stats, img_full_paths), total=len(img_full_paths)))\n",
    "    \n",
    "means, stds, maxs, mins, shapes = zip(*stats)  # Split the stats by types"
   ]
  },
  {
   "cell_type": "markdown",
   "id": "579a71a2",
   "metadata": {},
   "source": [
    "Show a histogram with the means extracted from each image over all its pixels"
   ]
  },
  {
   "cell_type": "code",
   "execution_count": null,
   "id": "41926386",
   "metadata": {},
   "outputs": [],
   "source": [
    "create_histogram(data=means,\n",
    "                 title=\"Pixels means for each image\",\n",
    "                 ylabel=\"Images\",\n",
    "                 xlabel=\"Pixels mean\",\n",
    "                 bins=300,\n",
    "                 fig_size=(8, 5))"
   ]
  },
  {
   "cell_type": "code",
   "execution_count": null,
   "id": "5460132c-bc8b-465b-83eb-edec2064c50e",
   "metadata": {},
   "outputs": [],
   "source": [
    "create_histogram(data=stds,\n",
    "                 title=\"Pixels stds for each image\",\n",
    "                 ylabel=\"Images\",\n",
    "                 xlabel=\"Pixels std\",\n",
    "                 bins=300,\n",
    "                 fig_size=(8, 5))"
   ]
  },
  {
   "cell_type": "markdown",
   "id": "ada19495",
   "metadata": {},
   "source": [
    "Show a histogram with the maximum pixels values extracted from each image"
   ]
  },
  {
   "cell_type": "code",
   "execution_count": null,
   "id": "1192570c",
   "metadata": {},
   "outputs": [],
   "source": [
    "create_histogram(data=maxs,\n",
    "                 title=\"Pixels maximums for each image\",\n",
    "                 ylabel=\"Images\",\n",
    "                 xlabel=\"Maximum pixel\",\n",
    "                 bins=300,\n",
    "                 fig_size=(8, 5))"
   ]
  },
  {
   "cell_type": "markdown",
   "id": "52fb5249",
   "metadata": {},
   "source": [
    "Show a histogram with the minimum pixels values extracted from each image"
   ]
  },
  {
   "cell_type": "code",
   "execution_count": null,
   "id": "8df5cd1d",
   "metadata": {},
   "outputs": [],
   "source": [
    "create_histogram(data=mins,\n",
    "                 title=\"Pixels minimums for each image\",\n",
    "                 ylabel=\"Images\",\n",
    "                 xlabel=\"Minimum Pixel\",\n",
    "                 bins=300,\n",
    "                 fig_size=(8, 5))"
   ]
  },
  {
   "cell_type": "markdown",
   "id": "1c250b4a",
   "metadata": {},
   "source": [
    "Count different images shapes"
   ]
  },
  {
   "cell_type": "code",
   "execution_count": null,
   "id": "ec3b2bd0",
   "metadata": {
    "scrolled": true
   },
   "outputs": [],
   "source": [
    "print(\"Images shapes count:\")\n",
    "sorted_counts = np.array(sorted(dict(Counter(shapes)).items(), key=lambda x: x[1], reverse=True))\n",
    "for shape, count in sorted_counts:\n",
    "    print(f\"{shape}: {count}\")"
   ]
  },
  {
   "cell_type": "markdown",
   "id": "612113ab",
   "metadata": {},
   "source": [
    "Scatter plot to view the general shape distributions. To create this plot we take into account the top \"N\" most frequent shapes."
   ]
  },
  {
   "cell_type": "code",
   "execution_count": null,
   "id": "29171f86",
   "metadata": {},
   "outputs": [],
   "source": [
    "# Select the top 40 most frequent shapes\n",
    "N = 40\n",
    "selected_counts = sorted_counts[:N,:]\n",
    "\n",
    "heights, widths = zip(*selected_counts[:,0]) # Split height and width values\n",
    "\n",
    "colors = np.array(selected_counts[:,1])  # Get color form the count number\n",
    "area = 300  # Size of the circles\n",
    "plt.figure(figsize=(9,8), dpi=100)\n",
    "plt.scatter(widths, heights, s=area, c=colors, cmap=\"Accent\", alpha=0.6)\n",
    "plt.grid()\n",
    "cbar = plt.colorbar()\n",
    "cbar.ax.set_ylabel(\"Images Count\")\n",
    "plt.title(\"Images shapes distribution\")\n",
    "plt.ylabel(\"Image Height\")\n",
    "plt.xlabel(\"Image Width\")\n",
    "plt.show()"
   ]
  },
  {
   "cell_type": "markdown",
   "id": "4157dd60",
   "metadata": {},
   "source": [
    "## Labels Analysis"
   ]
  },
  {
   "cell_type": "markdown",
   "id": "eca8e9a0",
   "metadata": {},
   "source": [
    "### Load TSV with labels by session"
   ]
  },
  {
   "cell_type": "code",
   "execution_count": null,
   "id": "8e6a90db",
   "metadata": {},
   "outputs": [],
   "source": [
    "labels_df = pd.read_csv(labels_tsv_path, sep=\"\\t\")\n",
    "labels_df.head()"
   ]
  },
  {
   "cell_type": "markdown",
   "id": "fa1f49c8",
   "metadata": {},
   "source": [
    "### Look for nan values"
   ]
  },
  {
   "cell_type": "code",
   "execution_count": null,
   "id": "b434c2e7",
   "metadata": {},
   "outputs": [],
   "source": [
    "print(\"NaNs count by column:\")\n",
    "print(labels_df.isna().sum())"
   ]
  },
  {
   "cell_type": "markdown",
   "id": "962a1664",
   "metadata": {},
   "source": [
    "### Check subjects and sessions IDs"
   ]
  },
  {
   "cell_type": "code",
   "execution_count": null,
   "id": "b0896c22",
   "metadata": {},
   "outputs": [],
   "source": [
    "n_subjects = labels_df['PatientID'].nunique()\n",
    "n_sessions = labels_df['ReportID'].nunique()\n",
    "print(f\"Number of subjects: {n_subjects}\")\n",
    "print(f\"Number of sessions: {n_sessions}\")\n",
    "\n",
    "# Compare the sets of unique sessions IDs of each DataFrame\n",
    "imgs_df_sess = set(part_df['session'])\n",
    "labels_df_sess = set(labels_df[\"ReportID\"])\n",
    "sess_diff1 = len(imgs_df_sess.difference(labels_df_sess))\n",
    "sess_diff2 = len(labels_df_sess.difference(imgs_df_sess))\n",
    "print(f\"Number of images without labels: {sess_diff1}\")\n",
    "print(f\"Number of labels without image: {sess_diff2}\")"
   ]
  },
  {
   "cell_type": "markdown",
   "id": "9de689ca",
   "metadata": {},
   "source": [
    "### Count labels\n",
    "\n",
    "Note: The labels in the column \"Labels\" are strings representing a python list\n",
    "      with the actual strings of the labels"
   ]
  },
  {
   "cell_type": "code",
   "execution_count": null,
   "id": "41f437a3",
   "metadata": {},
   "outputs": [],
   "source": [
    "# Replace the nans by the label NONE\n",
    "labels_df[\"Labels\"] = labels_df[\"Labels\"].fillna('[\"NONE\"]')\n",
    "\n",
    "labels_counter = Counter()\n",
    "for labels_str in labels_df[\"Labels\"]:\n",
    "    labels_list = get_labels_from_str(labels_str, verbose=True)  # Get a list object from the str\n",
    "    labels_counter.update(labels_list)  # Update the counter for each label in the list\n"
   ]
  },
  {
   "cell_type": "markdown",
   "id": "7bcbb953",
   "metadata": {},
   "source": [
    "Show counts results"
   ]
  },
  {
   "cell_type": "code",
   "execution_count": null,
   "id": "2c8626e7",
   "metadata": {},
   "outputs": [],
   "source": [
    "print(f\"Total number of unique labels: {len(labels_counter)}\")\n",
    "\n",
    "print(\"\\nLabels count (sorted):\")\n",
    "for label, counter in sorted(labels_counter.items(), key=lambda x: x[1], reverse=True):\n",
    "    print(f'\"{label}\": {counter}')"
   ]
  },
  {
   "cell_type": "markdown",
   "id": "f36a0962",
   "metadata": {},
   "source": [
    "### Count sets of labels"
   ]
  },
  {
   "cell_type": "code",
   "execution_count": null,
   "id": "3fda210e",
   "metadata": {},
   "outputs": [],
   "source": [
    "# List the sets of labels to look for\n",
    "labels_sets = [[\"COVID 19\", \"pneumonia\"], [\"COVID 19\", \"infiltrates\"], [\"pneumonia\", \"infiltrates\"],\n",
    "               [\"COVID 19\"], [\"pneumonia\"], [\"infiltrates\"], [\"normal\"]]\n",
    "labels_sets_counter = Counter()  # To store the aparitions of each labels set\n",
    "\n",
    "for labels_str in labels_df[\"Labels\"]:\n",
    "    labels_list = get_labels_from_str(labels_str, verbose=True)  # Get a list object from the str\n",
    "\n",
    "    # Check if any labels set is a subset of the labels_list\n",
    "    for l_set in labels_sets:\n",
    "        if set(l_set).issubset(labels_list):\n",
    "            labels_sets_counter.update([\" + \".join(l_set)])  # Update the counter of the labels set"
   ]
  },
  {
   "cell_type": "code",
   "execution_count": null,
   "id": "ecbae339",
   "metadata": {},
   "outputs": [],
   "source": [
    "print(\"\\nLabels sets count (sorted):\")\n",
    "for label, counter in sorted(labels_sets_counter.items(), key=lambda x: x[1], reverse=True):\n",
    "    print(f'\"{label}\": {counter}')"
   ]
  },
  {
   "cell_type": "markdown",
   "id": "16b434d9",
   "metadata": {},
   "source": [
    "## Analyze COVID tests labels"
   ]
  },
  {
   "cell_type": "markdown",
   "id": "55478565",
   "metadata": {},
   "source": [
    "### Load TSV with COVID tests results"
   ]
  },
  {
   "cell_type": "code",
   "execution_count": null,
   "id": "c48a94b3",
   "metadata": {},
   "outputs": [],
   "source": [
    "tests_df = pd.read_csv(tests_tsv_path, sep=\"\\t\")\n",
    "tests_df.head()"
   ]
  },
  {
   "cell_type": "markdown",
   "id": "f67a7cfc",
   "metadata": {},
   "source": [
    "Look for nan values"
   ]
  },
  {
   "cell_type": "code",
   "execution_count": null,
   "id": "fa843228",
   "metadata": {},
   "outputs": [],
   "source": [
    "print(\"NaNs count by column:\")\n",
    "print(tests_df.isna().sum())"
   ]
  },
  {
   "cell_type": "markdown",
   "id": "54fe1404",
   "metadata": {},
   "source": [
    "### Count tests types"
   ]
  },
  {
   "cell_type": "code",
   "execution_count": null,
   "id": "284924aa",
   "metadata": {},
   "outputs": [],
   "source": [
    "print(\"Test types count:\")\n",
    "test_types_counts = tests_df[\"test\"].value_counts()\n",
    "print(test_types_counts)"
   ]
  },
  {
   "cell_type": "markdown",
   "id": "ceef11e9",
   "metadata": {},
   "source": [
    "### Count tests results"
   ]
  },
  {
   "cell_type": "code",
   "execution_count": null,
   "id": "54c6127f",
   "metadata": {},
   "outputs": [],
   "source": [
    "print(\"Test results count:\")\n",
    "test_res_counts = tests_df[\"result\"].value_counts()\n",
    "print(test_res_counts)"
   ]
  },
  {
   "cell_type": "markdown",
   "id": "aea620f3",
   "metadata": {},
   "source": [
    "## Use COVID tests to improve data labeling"
   ]
  },
  {
   "cell_type": "markdown",
   "id": "a0a73bcd",
   "metadata": {},
   "source": [
    "For each subject we compare the labels of each session with the results available from the COVID tests labels.\n",
    "If we detect that some session hasn't the 'COVID 19' label but the subject has a POSITIVE COVID test with approximately the same date, we add the 'COVID 19' label to the session."
   ]
  },
  {
   "cell_type": "markdown",
   "id": "704fab45",
   "metadata": {},
   "source": [
    "### Prepare data"
   ]
  },
  {
   "cell_type": "code",
   "execution_count": null,
   "id": "60c20f75",
   "metadata": {},
   "outputs": [],
   "source": [
    "# Get only the positive tests\n",
    "posi_tests = tests_df[tests_df[\"result\"] == \"POSITIVO\"].copy()\n",
    "\n",
    "# Convert dates from strings to datetime objects\n",
    "posi_tests[\"date\"] = pd.to_datetime(posi_tests[\"date\"], format=\"%d.%m.%Y\")\n",
    "\n",
    "# Group tests by subject ID\n",
    "#  - Note: A subject can have several tests\n",
    "posi_tests_by_sub = posi_tests.groupby([\"participant\"])\n",
    "\n",
    "# Group the sessions labels by subject ID\n",
    "labels_by_sub = labels_df.groupby([\"PatientID\"])"
   ]
  },
  {
   "cell_type": "markdown",
   "id": "db534eff",
   "metadata": {},
   "source": [
    "### Configure parameters"
   ]
  },
  {
   "cell_type": "code",
   "execution_count": null,
   "id": "bc100e68",
   "metadata": {},
   "outputs": [],
   "source": [
    "'''\n",
    "Set the range of days before and after a COVID test to\n",
    "take the test result as valid to label a session\n",
    "'''\n",
    "valid_prev_days = 0  # Number of days before the COVID test\n",
    "valid_post_days = 0  # Number of days after the COVID test\n",
    "\n",
    "verbose = 1  # 0: only errors, >0: Full logs"
   ]
  },
  {
   "cell_type": "markdown",
   "id": "3ba289b8",
   "metadata": {},
   "source": [
    "### Process tests data"
   ]
  },
  {
   "cell_type": "code",
   "execution_count": null,
   "id": "593b5cac",
   "metadata": {
    "tags": []
   },
   "outputs": [],
   "source": [
    "fixed_labels = 0  # To count the sessions labels modified adding 'COVID 19'\n",
    "\n",
    "# Avoid to change labels of sessions with one of these labels\n",
    "#labels_to_avoid = []\n",
    "labels_to_avoid = [\"exclude\", \"normal\"]\n",
    "# Only try to change the labels os sessions with at least one of these labels\n",
    "#mandatory_labels = []\n",
    "mandatory_labels = [\"COVID 19 uncertain\", \"infiltrates\", \"pneumonia\"]\n",
    "\n",
    "# Iterate over the groups of tests of each subject\n",
    "#  - IMPORTANT: \"posi_tests_by_sub\" only contains positive tests\n",
    "for sub_id, sub_tests in posi_tests_by_sub:\n",
    "    # Load subject sessions data\n",
    "    sub_sessions_tsv = os.path.join(subjects_path, sub_id, f\"{sub_id}_sessions.tsv\")\n",
    "    # Check if the data exists\n",
    "    if not os.path.isfile(sub_sessions_tsv):\n",
    "        print(\"---------------------------------------------------\")\n",
    "        if not os.path.isdir(os.path.dirname(sub_sessions_tsv)):\n",
    "            print(f'| Error: Missing subject directory of \"{sub_id}\"')\n",
    "        else:\n",
    "            print(f'| Error: Missing file \"{sub_sessions_tsv}\"')\n",
    "        print(\"---------------------------------------------------\")\n",
    "        continue  # skip the subject     \n",
    "    sub_sessions_df = pd.read_csv(sub_sessions_tsv, sep=\"\\t\")\n",
    "    \n",
    "    # Convert sessions dates from strings to datetime objects\n",
    "    sub_sessions_df[\"study_date\"] = pd.to_datetime(sub_sessions_df[\"study_date\"], format=\"%Y%m%d\")\n",
    "    \n",
    "    # Get the list of labels for each session of the subject\n",
    "    sub_sessions_labels = labels_by_sub.get_group(sub_id)[['ReportID','Labels']]\n",
    "    \n",
    "    # Compare the labels of each session with the COVID tests\n",
    "    for idx, sess_row in sub_sessions_df.iterrows():\n",
    "        sess_id = sess_row[\"session_id\"]\n",
    "        sess_date = sess_row[\"study_date\"]\n",
    "        \n",
    "        # Get the list of labels of the current session\n",
    "        sess_labels_row = sub_sessions_labels[sub_sessions_labels[\"ReportID\"] == sess_id]\n",
    "        labels_str = sess_labels_row[\"Labels\"].values[0]\n",
    "        labels_list = get_labels_from_str(labels_str, verbose=True)  # Get a list object from the str\n",
    "        \n",
    "        # Skip sessions with the COVID label (Nothing to change here)\n",
    "        if 'COVID 19' in labels_list:\n",
    "            continue\n",
    "        # Skip sessions with at least one of the labels to avoid\n",
    "        if any(l in labels_to_avoid for l in labels_list):\n",
    "            continue\n",
    "        # Skip sessions without at least one mandatory label\n",
    "        if len(mandatory_labels) and not any(l in mandatory_labels for l in labels_list):\n",
    "            continue\n",
    "            \n",
    "        # Look if any of the tests can affect the session labels (by time difference)\n",
    "        for test_date in sub_tests[\"date\"]:\n",
    "            # Compute time difference in days\n",
    "            days_diff = (sess_date - test_date).days\n",
    "\n",
    "            # Check if is a valid difference to fix the label\n",
    "            if -valid_prev_days <= days_diff <= valid_post_days:\n",
    "                if verbose:\n",
    "                    print(f\"FIX: Sess ID: {sess_id} Days diff: {days_diff} - session labels: {labels_list}\")\n",
    "                fixed_labels += 1               \n",
    "                break  # Don't look for more tests"
   ]
  },
  {
   "cell_type": "code",
   "execution_count": null,
   "id": "907a2b15",
   "metadata": {},
   "outputs": [],
   "source": [
    "print(f\"Sessions labels modified adding 'COVID 19': {fixed_labels}\")"
   ]
  }
 ],
 "metadata": {
  "kernelspec": {
   "display_name": "Python 3",
   "language": "python",
   "name": "python3"
  },
  "language_info": {
   "codemirror_mode": {
    "name": "ipython",
    "version": 3
   },
   "file_extension": ".py",
   "mimetype": "text/x-python",
   "name": "python",
   "nbconvert_exporter": "python",
   "pygments_lexer": "ipython3",
   "version": "3.8.3"
  }
 },
 "nbformat": 4,
 "nbformat_minor": 5
}
