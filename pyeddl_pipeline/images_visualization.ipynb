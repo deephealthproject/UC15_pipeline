{
 "cells": [
  {
   "cell_type": "markdown",
   "id": "8c3a2890",
   "metadata": {},
   "source": [
    "# Images Visualization"
   ]
  },
  {
   "cell_type": "markdown",
   "id": "73b110e3",
   "metadata": {},
   "source": [
    "## Imports"
   ]
  },
  {
   "cell_type": "code",
   "execution_count": null,
   "id": "4e0f2560",
   "metadata": {},
   "outputs": [],
   "source": [
    "import os\n",
    "import random\n",
    "import json\n",
    "\n",
    "import pandas as pd\n",
    "from skimage import exposure\n",
    "import matplotlib.pyplot as plt\n",
    "\n",
    "from lib.plot_utils import show_images, create_histogram\n",
    "from lib.image_processing import load_numpy_data"
   ]
  },
  {
   "cell_type": "markdown",
   "id": "bde9c496",
   "metadata": {},
   "source": [
    "## Config"
   ]
  },
  {
   "cell_type": "code",
   "execution_count": null,
   "id": "5e34b55e",
   "metadata": {},
   "outputs": [],
   "source": [
    "# Paths to the folders with the subjects data: \"posi\" = COVID patients, \"neg\" = No COVID patients\n",
    "posi_path = \"../../../datasets/BIMCV-COVID19-cIter_1_2/covid19_posi/\"\n",
    "neg_path = \"../../../datasets/BIMCV-COVID19-cIter_1_2-Negative/covid19_neg/\"\n",
    "\n",
    "# Paths to the TSVs with all the images file pahts by subject and session\n",
    "posi_partitions_path = os.path.join(posi_path, \"derivatives/partitions.tsv\")\n",
    "neg_partitions_path = os.path.join(neg_path, \"derivatives/partitions.tsv\")"
   ]
  },
  {
   "cell_type": "markdown",
   "id": "731a9d3f",
   "metadata": {},
   "source": [
    "## Load CSV data"
   ]
  },
  {
   "cell_type": "code",
   "execution_count": null,
   "id": "8d4f6f79",
   "metadata": {},
   "outputs": [],
   "source": [
    "# Load dataframe with all the images by session and subject\n",
    "cols = [\"subject\", \"session\", \"filepath\"]  # The original columns must be fixed\n",
    "posi_df = pd.read_csv(posi_partitions_path, sep=\"\\t\", header=0, names=cols)\n",
    "neg_df = pd.read_csv(neg_partitions_path, sep=\"\\t\", header=0, names=cols)\n",
    "\n",
    "print(\"Positive patients\\n\", posi_df.head())\n",
    "print(\"\\nNegative patients\\n\", neg_df.head())"
   ]
  },
  {
   "cell_type": "markdown",
   "id": "ebc8cdd5",
   "metadata": {},
   "source": [
    "## Show random images"
   ]
  },
  {
   "cell_type": "markdown",
   "id": "9ddaf242",
   "metadata": {},
   "source": [
    "The next cell takes N random images (with view AP or PA) and shows them in a grid."
   ]
  },
  {
   "cell_type": "code",
   "execution_count": null,
   "id": "06574b8e",
   "metadata": {},
   "outputs": [],
   "source": [
    "N = 4  # Number of images to show\n",
    "patients_type = \"posi\"  # From which patients to select the images: \"posi\" or \"neg\"\n",
    "\n",
    "if patients_type == \"posi\":\n",
    "    part_df = posi_df\n",
    "    subjects_path = posi_path\n",
    "else:\n",
    "    part_df = neg_df\n",
    "    subjects_path = neg_path\n",
    "    \n",
    "# Get only AP/PA images\n",
    "ap_pa_paths = [path for path in part_df[\"filepath\"] if \"vp-ap\" in path or \"vp-pa\" in path]"
   ]
  },
  {
   "cell_type": "code",
   "execution_count": null,
   "id": "5ef39edd",
   "metadata": {},
   "outputs": [],
   "source": [
    "# Get random images\n",
    "sampled_imgs = random.sample(ap_pa_paths, N)\n",
    "print(\"Images to show:\")\n",
    "for img in sampled_imgs:\n",
    "    print(img)\n",
    "\n",
    "# Get the full path. \"img_paths\" are relative to the main data folder\n",
    "img_paths = [os.path.join(subjects_path, f) for f in sampled_imgs]\n",
    "\n",
    "if patients_type == \"neg\":\n",
    "    # Fix paths of the \"neg\" set. The paths of the TSV should have a \"mod-rx\" folder before the file name\n",
    "    # in the relative path to match the real folder structure of the given dataset\n",
    "    def fix_path(path: str):\n",
    "        parts = path.split('/')\n",
    "        return '/'.join([*parts[:-1], \"mod-rx\", parts[-1]])\n",
    "\n",
    "    img_paths = list(map(fix_path, img_paths))\n",
    "\n",
    "# Load the images to plot\n",
    "img_arrs = [load_numpy_data(f_path) for f_path in img_paths]\n",
    "\n",
    "# Plot the images grid\n",
    "show_images(img_arrs, grid_width=20, grid_height=20)"
   ]
  },
  {
   "cell_type": "markdown",
   "id": "3cc68b1d",
   "metadata": {},
   "source": [
    "## Show images after preprocessing"
   ]
  },
  {
   "cell_type": "markdown",
   "id": "c52b687f",
   "metadata": {},
   "source": [
    "Now we take the images selected in the previous cell and we apply a histogram equalization to improve the contrast and in case of activating the RGB mode, the image is colored with a colormap to get a RGB image. If the image is \"monochrome 1\" we invert the values of the image."
   ]
  },
  {
   "cell_type": "code",
   "execution_count": null,
   "id": "38262e6c",
   "metadata": {},
   "outputs": [],
   "source": [
    "# Select equalization mode\n",
    "#  - Note: More info in: https://scikit-image.org/docs/dev/auto_examples/color_exposure/plot_equalize.html\n",
    "#eq_func = exposure.equalize_hist  # histogram equalization\n",
    "eq_func = exposure.equalize_adapthist  # Adaptive equalization\n",
    "\n",
    "to_rgb = False  # To transform the image to RGB\n",
    "colormap = \"jet\"  # Color map (from matplotlib) to color the image\n",
    "n_colors = 100  # Number of colors tu use in the map\n",
    "\n",
    "preproc_imgs = []  # To store the images with the preprocessing applied\n",
    "for img_path in img_paths:\n",
    "    img = load_numpy_data(img_path)\n",
    "    \n",
    "    # The images that are monochrome 1 must be inverted\n",
    "    json_path = img_path[:-4] + \".json\"\n",
    "    if os.path.isfile(json_path):\n",
    "        with open(json_path, 'r') as json_file:\n",
    "            data = json.load(json_file)\n",
    "            img_type = data[\"00280004\"][\"Value\"][0]\n",
    "            print(f\"\\nThe image '{img_path}' is '{img_type}'\")\n",
    "            if img_type == \"MONOCHROME1\":\n",
    "                print(f\" ** Going to invert image **\")\n",
    "                img = img.max() - img  # Invert the image\n",
    "    else:\n",
    "        print(f\"JSON with metadata not found for image '{img_path}'\")\n",
    "    \n",
    "    img = eq_func(img)  # Apply equalization\n",
    "    \n",
    "    if to_rgb:\n",
    "        cmap = plt.get_cmap(colormap, lut=100)\n",
    "        img = cmap(img)\n",
    "    \n",
    "    preproc_imgs.append(img)  # Store the preprocessed image\n",
    "\n",
    "# Plot the images grid\n",
    "show_images(preproc_imgs, grid_width=15, grid_height=15)"
   ]
  },
  {
   "cell_type": "markdown",
   "id": "d3684f99",
   "metadata": {},
   "source": [
    "Plot the histograms of the pixels values for each image shown"
   ]
  },
  {
   "cell_type": "code",
   "execution_count": null,
   "id": "f54fc50a",
   "metadata": {
    "scrolled": false
   },
   "outputs": [],
   "source": [
    "if not to_rgb:\n",
    "    for img in preproc_imgs:\n",
    "        create_histogram(img.flatten(), title=\"Image values\", ylabel=\"N\", xlabel=\"Gray level\", bins=256, log_yscale=False)"
   ]
  },
  {
   "cell_type": "markdown",
   "id": "7f5783f0",
   "metadata": {},
   "source": [
    "## Show a specific images"
   ]
  },
  {
   "cell_type": "markdown",
   "id": "a954489a",
   "metadata": {},
   "source": [
    "### Select the images to show"
   ]
  },
  {
   "cell_type": "markdown",
   "id": "d1325732",
   "metadata": {},
   "source": [
    "If you only set the \"sub_id\" all the images from all the session of that subject will be shown. And if you set the \"sess_id\" all the images from that session will be shown."
   ]
  },
  {
   "cell_type": "code",
   "execution_count": null,
   "id": "ecb91066",
   "metadata": {},
   "outputs": [],
   "source": [
    "# Use the empty string (\"\") to delete a field\n",
    "# Note: The session or subject ID will be searched within the selected \"patients_type\" selected\n",
    "sub_id = \"\"\n",
    "sess_id = \"ses-E25558\"\n",
    "\n",
    "select_only_ap_pa = True  # To show only the anterior-posterior and posterior-anterior images"
   ]
  },
  {
   "cell_type": "markdown",
   "id": "4abfa50e",
   "metadata": {},
   "source": [
    "### Show the images selected"
   ]
  },
  {
   "cell_type": "code",
   "execution_count": null,
   "id": "56498649",
   "metadata": {},
   "outputs": [],
   "source": [
    "# Get the file paths of the images to show\n",
    "selected_imgs = []\n",
    "if sess_id != \"\":\n",
    "    selected_imgs = part_df[part_df[\"session\"] == sess_id][\"filepath\"].values\n",
    "elif sub_id != \"\":\n",
    "    selected_imgs = part_df[part_df[\"subject\"] == sub_id][\"filepath\"].values\n",
    "else:\n",
    "    raise Exception(\"Please provide a subject ID or a session ID to find the images to show\")\n",
    "\n",
    "if len(selected_imgs) == 0:\n",
    "    raise Exception(f'No images found with the provided IDs: sub_id = \"{sub_id}\" - sess_id = \"{sess_id}\"')\n",
    "\n",
    "if select_only_ap_pa:\n",
    "    # Get only AP/PA images\n",
    "    selected_imgs = [img_path for img_path in selected_imgs if \"vp-ap\" in img_path or \"vp-pa\" in img_path]\n",
    "\n",
    "# Only show the .png files. (Remove .nii.gz)\n",
    "selected_imgs = [img_path for img_path in selected_imgs if img_path.endswith(\".png\")]\n",
    "\n",
    "print(\"Images to show:\")\n",
    "for img in selected_imgs:\n",
    "    print(img)\n",
    "    \n",
    "# Get the full path. \"img_paths\" are relative to the main data folder\n",
    "img_paths = [os.path.join(subjects_path, f) for f in selected_imgs]\n",
    "\n",
    "if patients_type == \"neg\":\n",
    "    # Fix paths of the \"neg\" set. The paths of the TSV should have a \"mod-rx\" folder before the file name\n",
    "    # in the relative path to match the real folder structure of the given dataset\n",
    "    def fix_path(path: str):\n",
    "        parts = path.split('/')\n",
    "        return '/'.join([*parts[:-1], \"mod-rx\", parts[-1]])\n",
    "\n",
    "    img_paths = list(map(fix_path, img_paths))\n",
    "\n",
    "# Load the images to plot\n",
    "img_arrs = [load_numpy_data(f_path) for f_path in img_paths]\n",
    "\n",
    "# Equalize the loaded images\n",
    "eq_imgs = [exposure.equalize_adapthist(img) for img in img_arrs]\n",
    "\n",
    "# Plot the images grid\n",
    "show_images(eq_imgs, grid_width=15, grid_height=15)"
   ]
  }
 ],
 "metadata": {
  "kernelspec": {
   "display_name": "Python 3 (ipykernel)",
   "language": "python",
   "name": "python3"
  },
  "language_info": {
   "codemirror_mode": {
    "name": "ipython",
    "version": 3
   },
   "file_extension": ".py",
   "mimetype": "text/x-python",
   "name": "python",
   "nbconvert_exporter": "python",
   "pygments_lexer": "ipython3",
   "version": "3.8.6"
  }
 },
 "nbformat": 4,
 "nbformat_minor": 5
}
