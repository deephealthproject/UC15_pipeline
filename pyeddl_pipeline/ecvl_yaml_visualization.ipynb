{
 "cells": [
  {
   "cell_type": "markdown",
   "id": "8c3a2890",
   "metadata": {},
   "source": [
    "# ECVL Dataset YAML visualization\n",
    "\n",
    "#### This notebook is for visualizing the images in each split of an ECVL Dataset YAML file"
   ]
  },
  {
   "cell_type": "markdown",
   "id": "73b110e3",
   "metadata": {},
   "source": [
    "## Imports"
   ]
  },
  {
   "cell_type": "code",
   "execution_count": null,
   "id": "4e0f2560",
   "metadata": {},
   "outputs": [],
   "source": [
    "import os\n",
    "import random\n",
    "\n",
    "import yaml\n",
    "import ipywidgets as widgets\n",
    "from IPython.display import display\n",
    "\n",
    "from lib.plot_utils import show_images\n",
    "from lib.image_processing import load_numpy_data"
   ]
  },
  {
   "cell_type": "markdown",
   "id": "bde9c496",
   "metadata": {},
   "source": [
    "## Config"
   ]
  },
  {
   "cell_type": "code",
   "execution_count": null,
   "id": "5e34b55e",
   "metadata": {},
   "outputs": [],
   "source": [
    "# Path to the yaml to inspect\n",
    "preproc_data_path = \"../../../datasets/preproc_lungsregion_BIMCV-COVID19/\"\n",
    "yaml_path = os.path.join(preproc_data_path, \"ecvl_bimcv_covid19.yaml\")\n",
    "\n",
    "# Split to take the images from\n",
    "#target_split = \"training\"\n",
    "#target_split = \"validation\"\n",
    "target_split = \"test\""
   ]
  },
  {
   "cell_type": "markdown",
   "id": "c76c33bd-24ad-4e7e-bf5f-1bf0981dfd66",
   "metadata": {},
   "source": [
    "## Select the set of images to visualize"
   ]
  },
  {
   "cell_type": "code",
   "execution_count": null,
   "id": "2303f029-1cf5-4c86-86d2-732aaa0436eb",
   "metadata": {},
   "outputs": [],
   "source": [
    "# Read the YAML data\n",
    "with open(yaml_path, \"r\") as stream:\n",
    "    try:\n",
    "        yaml_data = yaml.safe_load(stream)\n",
    "    except yaml.YAMLError as exc:\n",
    "        print(exc)\n",
    "\n",
    "# Get the full path. \"relative_paths\" are relative to the main data folder\n",
    "#images_data = [(sub, sess, os.path.join(subjects_path, path)) for sub, sess, path in images_data]\n",
    "split_indexes = yaml_data['split'][target_split]\n",
    "split_samples = [yaml_data['images'][idx] for idx in split_indexes]\n",
    "\n",
    "# Prepare the list structure to store the samples\n",
    "images_data = []\n",
    "for sample in split_samples:\n",
    "    age = sample['values']['age']\n",
    "    gender = sample['values']['gender']\n",
    "    path = os.path.join(preproc_data_path, sample['location'])\n",
    "    label = sample['label'][0]\n",
    "    images_data.append((age, gender, path, label))"
   ]
  },
  {
   "cell_type": "code",
   "execution_count": null,
   "id": "9d808902-d1f9-4e47-a4a2-dfd7db1e1b4e",
   "metadata": {},
   "outputs": [],
   "source": [
    "if len(images_data) == 0:\n",
    "    raise Exception(\"There are no images to show!\")\n",
    "    \n",
    "current_image = 0  # To track the index of the current image to show\n",
    "\n",
    "AGE, GENDER, PATH, LABEL = 0, 1, 2, 3  # Auxiliay indexes\n",
    "\n",
    "# Create output widgets to control the layout\n",
    "output = widgets.Output()  # To show the images\n",
    "log_out =  widgets.Output()  # To show text data\n",
    "\n",
    "def show_image(index):\n",
    "    \"\"\"Shows the image selected by the index provided\"\"\"\n",
    "    output.clear_output()\n",
    "    with output:\n",
    "        show_images([load_numpy_data(images_data[index][PATH])])\n",
    "\n",
    "def show_data(index):\n",
    "    log_out.clear_output()\n",
    "    with log_out:\n",
    "        print(f\"Image {index+1}/{len(images_data)}\")\n",
    "        age = images_data[index][AGE]\n",
    "        gender = images_data[index][GENDER]\n",
    "        label = images_data[index][LABEL]\n",
    "        print(f\"{age=}\\n{gender=}\\n{label=}\")\n",
    "        \n",
    "show_image(current_image)  # Show the first image\n",
    "show_data(current_image)   # Log sample data\n",
    "\n",
    "# Create the button to skip the images\n",
    "buttons_layout = widgets.Layout(width='100px', height='100px')\n",
    "b_next = widgets.Button(description=\"Next\", button_style=\"info\", layout=buttons_layout, icon='arrow-right')\n",
    "\n",
    "# Prepare the function callbacks for the buttons to label the current image\n",
    "\n",
    "def next_image(label=None):\n",
    "    \"\"\"\n",
    "    Function to load and show the next image after pressing the next button.\n",
    "    This function also controls the logs.\n",
    "    \"\"\"\n",
    "    # Bring the global variable to the scope\n",
    "    global current_image   \n",
    "    # Pass to the next image\n",
    "    current_image += 1\n",
    "    \n",
    "    # Show the next image\n",
    "    if current_image < len(images_data):\n",
    "        show_image(current_image)\n",
    "        show_data(current_image)\n",
    "    else:\n",
    "        b_next.disabled = True\n",
    "        with log_out:\n",
    "            print(\"\\nYOU REACHED THE END OF THE SAMPLES LIST!\")\n",
    "        \n",
    "# Assign the button callback\n",
    "b_next.on_click(next_image)\n",
    "    \n",
    "# Configure the layout of the elements and show it\n",
    "buttons = widgets.VBox([b_next])\n",
    "display(widgets.HBox([output, buttons, log_out]))"
   ]
  }
 ],
 "metadata": {
  "kernelspec": {
   "display_name": "Python 3 (ipykernel)",
   "language": "python",
   "name": "python3"
  },
  "language_info": {
   "codemirror_mode": {
    "name": "ipython",
    "version": 3
   },
   "file_extension": ".py",
   "mimetype": "text/x-python",
   "name": "python",
   "nbconvert_exporter": "python",
   "pygments_lexer": "ipython3",
   "version": "3.8.6"
  }
 },
 "nbformat": 4,
 "nbformat_minor": 5
}
