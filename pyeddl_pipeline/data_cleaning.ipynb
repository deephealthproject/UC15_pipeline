{
 "cells": [
  {
   "cell_type": "markdown",
   "id": "8c3a2890",
   "metadata": {},
   "source": [
    "# Data Cleaning\n",
    "\n",
    "#### This notebook is for visualize the images and manually label them as valid or not. The images can be invalid if they have artifacts or if the labeled view is not correct."
   ]
  },
  {
   "cell_type": "markdown",
   "id": "73b110e3",
   "metadata": {},
   "source": [
    "## Imports"
   ]
  },
  {
   "cell_type": "code",
   "execution_count": null,
   "id": "4e0f2560",
   "metadata": {},
   "outputs": [],
   "source": [
    "import os\n",
    "import random\n",
    "\n",
    "import pandas as pd\n",
    "from skimage import exposure\n",
    "import ipywidgets as widgets\n",
    "from IPython.display import display\n",
    "\n",
    "from lib.plot_utils import show_images\n",
    "from lib.image_processing import load_numpy_data"
   ]
  },
  {
   "cell_type": "markdown",
   "id": "bde9c496",
   "metadata": {},
   "source": [
    "## Config"
   ]
  },
  {
   "cell_type": "code",
   "execution_count": null,
   "id": "5e34b55e",
   "metadata": {},
   "outputs": [],
   "source": [
    "# Path to the folder with the subjects folders extracted\n",
    "subjects_path = \"../../../datasets/BIMCV-COVID19-cIter_1_2/covid19_posi/\"\n",
    "\n",
    "# Path to the TSV with all the images file pahts by subject and session\n",
    "partitions_tsv_path = os.path.join(subjects_path, \"derivatives/partitions.tsv\")\n",
    "\n",
    "# Path to the TSV with the images selected to create the ECVL dataset (These images are preprocessed)\n",
    "preproc_ecvl_dataset = os.path.join(subjects_path, \"ecvl_bimcv_covid19.tsv\")\n",
    "\n",
    "# Path of the output file to generate with the manual filtering\n",
    "output_file = os.path.join(subjects_path, \"data_cleaning.tsv\")\n",
    "\n",
    "# Path to an output file of a previous run to use as a checkpoint\n",
    "#   Note: If not found a new file will be created from scratch\n",
    "ckpt_file = os.path.join(subjects_path, \"data_cleaning.tsv\")"
   ]
  },
  {
   "cell_type": "markdown",
   "id": "4ae7d763-2739-4a29-8ea3-36a9f50b8638",
   "metadata": {},
   "source": [
    "## Prepare the output file"
   ]
  },
  {
   "cell_type": "code",
   "execution_count": null,
   "id": "3ba7de80-31c7-4566-819d-23d5feec532e",
   "metadata": {},
   "outputs": [],
   "source": [
    "if os.path.isfile(ckpt_file):\n",
    "    print(f\"Going to load the checkpoint file from {ckpt_file}\")\n",
    "    out_df = pd.read_csv(ckpt_file, sep='\\t')\n",
    "else:\n",
    "    print(\"Checkpoint file not found. Going to create a new file.\")\n",
    "    out_df = pd.DataFrame(columns=[\"subject\", \"session\", \"status\"])  # status can be: \"OK\", \"WRONG VIEW\", \"ARTIFACTS\", \"INVALID\""
   ]
  },
  {
   "cell_type": "markdown",
   "id": "c76c33bd-24ad-4e7e-bf5f-1bf0981dfd66",
   "metadata": {},
   "source": [
    "## Select the set of images to clean"
   ]
  },
  {
   "cell_type": "code",
   "execution_count": null,
   "id": "2303f029-1cf5-4c86-86d2-732aaa0436eb",
   "metadata": {},
   "outputs": [],
   "source": [
    "use_all = False  # If True: You will use all the \"partitions_tsv_path\" images filtered by the view AP/PA\n",
    "                 # elif False: You will use the images of \"preproc_ecvl_dataset\", which are already filtered\n",
    "    \n",
    "if use_all:\n",
    "    # Load dataframe with all the images by session and subject\n",
    "    cols = [\"subject\", \"session\", \"filepath\"]  # The original columns must be fixed\n",
    "    df = pd.read_csv(partitions_tsv_path, sep=\"\\t\", header=0, names=cols)\n",
    "    \n",
    "    df = df.loc[~df['session'].isin(out_df[\"session\"])]  # Don't take the samples that are already labeled\n",
    "    \n",
    "    # Filter the images to get only AP or PA views\n",
    "    images_data = []\n",
    "    for idx, row in df.iterrows():\n",
    "        if \"vp-ap\" in row[\"filepath\"] or \"vp-pa\" in row[\"filepath\"]:  # Filter by view\n",
    "            images_data.append((row[\"subject\"], row[\"session\"], row[\"filepath\"]))\n",
    "        \n",
    "else:\n",
    "    # Load the dataframe of the preprocessed dataset\n",
    "    df = pd.read_csv(preproc_ecvl_dataset, sep=\"\\t\")\n",
    "    \n",
    "    df = df.loc[~df['session'].isin(out_df[\"session\"])]  # Don't take the samples that are already labeled\n",
    "    \n",
    "    # Get the paths\n",
    "    images_data = [(row[\"subject\"], row[\"session\"], row[\"filepath\"]) for idx, row in df.iterrows()]\n",
    "    \n",
    "# Get the full path. \"relative_paths\" are relative to the main data folder\n",
    "images_data = [(sub, sess, os.path.join(subjects_path, path)) for sub, sess, path in images_data]\n"
   ]
  },
  {
   "cell_type": "code",
   "execution_count": null,
   "id": "9d808902-d1f9-4e47-a4a2-dfd7db1e1b4e",
   "metadata": {},
   "outputs": [],
   "source": [
    "if len(images_data) == 0:\n",
    "    raise Exception(\"There are no images to show!\")\n",
    "    \n",
    "current_image = 0  # To track the index of the current image to show\n",
    "\n",
    "SUB, SESS, PATH = 0, 1, 2  # Auxiliay indexes\n",
    "\n",
    "# Create output widgets to control the layout\n",
    "output = widgets.Output()  # To show the images\n",
    "log_out =  widgets.Output()  # To show the dataframe status\n",
    "\n",
    "def show_image(index):\n",
    "    \"\"\"Shows the image selected by the index provided\"\"\"\n",
    "    output.clear_output()\n",
    "    with output:\n",
    "        show_images([load_numpy_data(images_data[index][PATH])])\n",
    "        \n",
    "show_image(current_image)  # Show the first image\n",
    "\n",
    "# Log dataframe status\n",
    "log_out.clear_output()\n",
    "with log_out:\n",
    "    print(out_df.tail(20))\n",
    "\n",
    "# Create the buttons to label the images\n",
    "buttons_layout = widgets.Layout(width='200px', height='100px')\n",
    "b_next = widgets.Button(description=\"Next\", button_style=\"info\", layout=buttons_layout, icon='arrow-right')\n",
    "b_inval = widgets.Button(description=\"Invalid\", button_style=\"danger\", layout=buttons_layout, icon='times')\n",
    "b_arti = widgets.Button(description=\"Artifacts\", button_style=\"warning\", layout=buttons_layout, icon='times')\n",
    "b_view = widgets.Button(description=\"Wrong View\", button_style=\"danger\", layout=buttons_layout, icon='times')\n",
    "b_ok = widgets.Button(description=\"OK\", button_style=\"success\", layout=buttons_layout, icon='check')\n",
    "\n",
    "\n",
    "# Prepare the function callbacks for the buttons to label the current image\n",
    "\n",
    "def set_label(label=None):\n",
    "    global current_image\n",
    "    \n",
    "    if label:\n",
    "        global out_df\n",
    "        sub = images_data[current_image][SUB]\n",
    "        sess = images_data[current_image][SESS]\n",
    "        path = images_data[current_image][PATH]\n",
    "\n",
    "        # Add the label to the dataframe\n",
    "        out_df = out_df.append({\"subject\": sub, \"session\": sess, \"status\": label}, ignore_index=True)\n",
    "    \n",
    "    # Log dataframe status\n",
    "    log_out.clear_output()\n",
    "    with log_out:\n",
    "        print(out_df.tail(20))\n",
    "    \n",
    "    # Pass to the next image\n",
    "    current_image += 1\n",
    "    if current_image < len(images_data):\n",
    "        show_image(current_image)\n",
    "    else:\n",
    "        b_next.disabled = True\n",
    "        b_inval.disabled = True\n",
    "        b_arti.disabled = True\n",
    "        b_view.disabled = True\n",
    "        b_ok.disabled = True\n",
    "        with log_out:\n",
    "            print(\"\\nYOU REACHED THE END OF THE SAMPLES LIST!\")\n",
    "            print(\"Save the TSV file with the next cell of the notebook\")\n",
    "    \n",
    "def is_next(arg):\n",
    "    set_label(None)\n",
    "\n",
    "    \n",
    "def is_invalid(arg):\n",
    "    set_label(\"INVALID\")  \n",
    "\n",
    "def is_artifacts(arg):\n",
    "    set_label(\"ARTIFACTS\") \n",
    "\n",
    "def is_wrong_view(arg):\n",
    "    set_label(\"WRONG VIEW\")\n",
    "    \n",
    "def is_ok(arg):\n",
    "    set_label(\"OK\")\n",
    "        \n",
    "# Assign the buttons callbacks\n",
    "b_next.on_click(is_next)\n",
    "b_inval.on_click(is_invalid)\n",
    "b_arti.on_click(is_artifacts)    \n",
    "b_view.on_click(is_wrong_view)\n",
    "b_ok.on_click(is_ok)\n",
    "    \n",
    "# Configure the layout of the elements and show it\n",
    "buttons = widgets.VBox([b_next, b_inval, b_arti, b_view, b_ok])\n",
    "display(widgets.HBox([output, buttons, log_out]))"
   ]
  },
  {
   "cell_type": "markdown",
   "id": "f22c286b-fe85-46ac-9cf5-371c3371b092",
   "metadata": {},
   "source": [
    "## Save the TSV with the labeled samples"
   ]
  },
  {
   "cell_type": "code",
   "execution_count": null,
   "id": "f58934a6-fc3d-4f88-9ce6-7a06af9728a1",
   "metadata": {},
   "outputs": [],
   "source": [
    "out_df.to_csv(output_file, sep='\\t', index=False)"
   ]
  }
 ],
 "metadata": {
  "kernelspec": {
   "display_name": "Python 3",
   "language": "python",
   "name": "python3"
  },
  "language_info": {
   "codemirror_mode": {
    "name": "ipython",
    "version": 3
   },
   "file_extension": ".py",
   "mimetype": "text/x-python",
   "name": "python",
   "nbconvert_exporter": "python",
   "pygments_lexer": "ipython3",
   "version": "3.8.3"
  }
 },
 "nbformat": 4,
 "nbformat_minor": 5
}
